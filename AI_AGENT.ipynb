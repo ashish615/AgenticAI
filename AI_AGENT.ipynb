{
  "nbformat": 4,
  "nbformat_minor": 0,
  "metadata": {
    "colab": {
      "provenance": []
    },
    "kernelspec": {
      "name": "python3",
      "display_name": "Python 3"
    },
    "language_info": {
      "name": "python"
    }
  },
  "cells": [
    {
      "cell_type": "markdown",
      "source": [
        "Cloud Provider: Groq (OpenAI)  [link](https://console.groq.com/playground)\n",
        "\n",
        "Model: llama-3.3-70b-versatile (gpt-4o)\n",
        "\n",
        "Framwork: Phidata ( crewai, LangChain, Microsofft Autogen ) [link](https://www.phidata.com/)\n",
        "\n",
        "Phidata : [Documentation](https://docs.phidata.com/introduction)   [Repository](https://github.com/phidatahq/phidata)"
      ],
      "metadata": {
        "id": "VQfULISgRje2"
      }
    },
    {
      "cell_type": "code",
      "source": [
        "!pip install phidata openai duckduckgo-search newspaper4k lxml_html_clean groq python-dotenv yfinance"
      ],
      "metadata": {
        "id": "YpEv8mAdQhwd"
      },
      "execution_count": null,
      "outputs": []
    },
    {
      "cell_type": "markdown",
      "source": [
        "### Set env in same folder using env file\n",
        "\n",
        "GROQ_API_KEY=\"\""
      ],
      "metadata": {
        "id": "hnLX-IiIVZbs"
      }
    },
    {
      "cell_type": "code",
      "source": [
        "from phi.agent import Agent\n",
        "from phi.model.groq import Groq\n",
        "from dotenv import load_dotenv\n",
        "\n",
        "load_dotenv(dotenv_path=\"env\")\n",
        "\n",
        "agent = Agent(\n",
        "    model=Groq(id=\"llama-3.3-70b-versatile\")\n",
        ")\n",
        "\n",
        "agent.print_response(\"Share a 2 sentence love story between dosa and samosa\", stream=True)"
      ],
      "metadata": {
        "id": "EmvmYl_maWTn"
      },
      "execution_count": null,
      "outputs": []
    },
    {
      "cell_type": "code",
      "source": [
        "\"\"\"Run `pip install yfinance` to install dependencies.\"\"\"\n",
        "\n",
        "from phi.agent import Agent\n",
        "from phi.model.groq import Groq\n",
        "from phi.tools.yfinance import YFinanceTools\n",
        "from dotenv import load_dotenv\n",
        "\n",
        "load_dotenv(dotenv_path=\"env\")\n",
        "\n",
        "\n",
        "agent = Agent(\n",
        "    model=Groq(id=\"llama-3.3-70b-versatile\"),\n",
        "    tools=[YFinanceTools(stock_price=True, analyst_recommendations=True, stock_fundamentals=True)],\n",
        "    instructions=[\n",
        "        \"Use tables to display data.\",\n",
        "    ],\n",
        "    show_tool_calls=True,\n",
        "    markdown=True,\n",
        "    debug_mode=True,\n",
        ")\n",
        "\n",
        "agent.print_response(\n",
        "    \"Summarize and compare analyst recommendations and fundamentals for TSLA and NVDA. Show in tables.\", stream=True\n",
        ")"
      ],
      "metadata": {
        "id": "SSE4Y3mseivj"
      },
      "execution_count": null,
      "outputs": []
    },
    {
      "cell_type": "code",
      "source": [
        "\"\"\"Run `pip install yfinance` to install dependencies.\"\"\"\n",
        "\n",
        "from phi.agent import Agent\n",
        "from phi.model.groq import Groq\n",
        "from phi.tools.yfinance import YFinanceTools\n",
        "from dotenv import load_dotenv\n",
        "\n",
        "load_dotenv(dotenv_path=\"env\")\n",
        "\n",
        "\n",
        "def get_company_symbol(company: str) -> str:\n",
        "    \"\"\"Use this function to get the symbol for a company.\n",
        "\n",
        "    Args:\n",
        "        company (str): The name of the company.\n",
        "\n",
        "    Returns:\n",
        "        str: The symbol for the company.\n",
        "    \"\"\"\n",
        "    symbols = {\n",
        "        \"Phidata\": \"MSFT\",\n",
        "        \"Infosys\": \"INFY\",\n",
        "        \"Tesla\": \"TSLA\",\n",
        "        \"Apple\": \"AAPL\",\n",
        "        \"Microsoft\": \"MSFT\",\n",
        "        \"Amazon\": \"AMZN\",\n",
        "        \"Google\": \"GOOGL\",\n",
        "    }\n",
        "    return symbols.get(company, \"Unknown\")\n",
        "\n",
        "\n",
        "agent = Agent(\n",
        "    model=Groq(id=\"llama-3.3-70b-versatile\"),\n",
        "    tools=[YFinanceTools(stock_price=True, analyst_recommendations=True, stock_fundamentals=True), get_company_symbol],\n",
        "    instructions=[\n",
        "        \"Use tables to display data.\",\n",
        "        \"If you need to find the symbol for a company, use the get_company_symbol tool to get the symbol from symbols dictionary.\",\n",
        "    ],\n",
        "    show_tool_calls=True,\n",
        "    markdown=True,\n",
        "    debug_mode=True,\n",
        ")\n",
        "\n",
        "agent.print_response(\n",
        "    \"Summarize and compare analyst recommendations and fundamentals for TSLA and Phidata. Show in tables.\", stream=True\n",
        ")"
      ],
      "metadata": {
        "id": "9dukN8HKRFEe"
      },
      "execution_count": null,
      "outputs": []
    },
    {
      "cell_type": "code",
      "source": [
        "from phi.agent import Agent\n",
        "from phi.model.openai import OpenAIChat\n",
        "from phi.model.groq import Groq\n",
        "from phi.tools.duckduckgo import DuckDuckGo\n",
        "from phi.tools.yfinance import YFinanceTools\n",
        "from dotenv import load_dotenv\n",
        "\n",
        "load_dotenv(dotenv_path=\"env\")\n",
        "\n",
        "web_agent = Agent(\n",
        "    name=\"Web Agent\",\n",
        "    model=Groq(id=\"llama-3.3-70b-versatile\"),\n",
        "    # model=OpenAIChat(id=\"gpt-4o\"),\n",
        "    tools=[DuckDuckGo()],\n",
        "    instructions=[\"Always include sources\"],\n",
        "    show_tool_calls=True,\n",
        "    markdown=True\n",
        ")\n",
        "\n",
        "finance_agent = Agent(\n",
        "    name=\"Finance Agent\",\n",
        "    role=\"Get financial data\",\n",
        "    model=Groq(id=\"llama-3.3-70b-versatile\"),\n",
        "    # model=OpenAIChat(id=\"gpt-4o\"),\n",
        "    tools=[YFinanceTools(stock_price=True, analyst_recommendations=True, company_info=True)],\n",
        "    instructions=[\"Use tables to display data\"],\n",
        "    show_tool_calls=True,\n",
        "    markdown=True,\n",
        ")\n",
        "\n",
        "agent_team = Agent(\n",
        "    model=Groq(id=\"llama-3.3-70b-versatile\"),\n",
        "    team=[web_agent, finance_agent],\n",
        "    instructions=[\"Always include sources\", \"Use tables to display data\"],\n",
        "    show_tool_calls=True,\n",
        "    markdown=True,\n",
        ")\n",
        "\n",
        "\n",
        "agent_team.print_response(\"Summarize latest news for NVDA and analyst recommendatation suggest the recomondation for NVDA\", stream=True)"
      ],
      "metadata": {
        "id": "dXrsaF3MQnKg"
      },
      "execution_count": null,
      "outputs": []
    },
    {
      "cell_type": "code",
      "source": [],
      "metadata": {
        "id": "3E2A6Zr2Yhwb"
      },
      "execution_count": null,
      "outputs": []
    },
    {
      "cell_type": "markdown",
      "source": [
        "# AI AGENT FOR RESEARCHERS\n"
      ],
      "metadata": {
        "id": "yBwUbNi5ZSgB"
      }
    },
    {
      "cell_type": "code",
      "source": [
        "!pip install -U arxiv pypdf\n"
      ],
      "metadata": {
        "id": "SVEDKtmVZX8K"
      },
      "execution_count": null,
      "outputs": []
    },
    {
      "cell_type": "code",
      "source": [
        "from phi.agent import Agent\n",
        "from phi.tools.arxiv_toolkit import ArxivToolkit\n",
        "\n",
        "agent = Agent( name=\"Researcher\",\n",
        "    model=Groq(id=\"llama-3.3-70b-versatile\"),tools=[ArxivToolkit()], show_tool_calls=True)\n",
        "agent.print_response(\"Search arxiv for 'RETROFORMER: RETROSPECTIVE LARGE LANGUAGE AGENTS WITH POLICY GRADIENT OPTIMIZATION' downloaded pdf and summerise it\",  stream=True)\n",
        "#agent.print_response(\"Search arxiv for 'Agentic large language models' show the title of downloaded pdfs and explain one of them in details\",  stream=True)"
      ],
      "metadata": {
        "id": "rOwbID6HZ_tx"
      },
      "execution_count": null,
      "outputs": []
    },
    {
      "cell_type": "code",
      "source": [],
      "metadata": {
        "id": "C0kn27ROaF9G"
      },
      "execution_count": null,
      "outputs": []
    }
  ]
}